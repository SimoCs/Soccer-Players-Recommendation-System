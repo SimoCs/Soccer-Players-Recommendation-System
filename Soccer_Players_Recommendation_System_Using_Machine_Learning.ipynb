{
  "cells": [
    {
      "cell_type": "code",
      "execution_count": 49,
      "id": "823ebfa2",
      "metadata": {
        "papermill": {
          "duration": 1.217305,
          "end_time": "2022-04-04T13:41:54.560864",
          "exception": false,
          "start_time": "2022-04-04T13:41:53.343559",
          "status": "completed"
        },
        "tags": [],
        "id": "823ebfa2"
      },
      "outputs": [],
      "source": [
        "import numpy as np\n",
        "import pandas as pd\n",
        "\n",
        "import matplotlib.pyplot as plt\n",
        "import seaborn as sns\n",
        "\n",
        "from sklearn.preprocessing import StandardScaler\n",
        "from sklearn.neighbors import NearestNeighbors\n",
        "from sklearn.decomposition import PCA"
      ]
    },
    {
      "cell_type": "code",
      "execution_count": 50,
      "id": "64801a87",
      "metadata": {
        "papermill": {
          "duration": 0.057679,
          "end_time": "2022-04-04T13:41:54.634121",
          "exception": false,
          "start_time": "2022-04-04T13:41:54.576442",
          "status": "completed"
        },
        "tags": [],
        "id": "64801a87"
      },
      "outputs": [],
      "source": [
        "data = pd.read_csv('data.csv')"
      ]
    },
    {
      "cell_type": "code",
      "source": [
        "data.head()"
      ],
      "metadata": {
        "colab": {
          "base_uri": "https://localhost:8080/",
          "height": 302
        },
        "id": "tWkOhchzyP0p",
        "outputId": "f1e15149-c1ed-4c35-8734-45b217f5c7e3"
      },
      "id": "tWkOhchzyP0p",
      "execution_count": 51,
      "outputs": [
        {
          "output_type": "execute_result",
          "data": {
            "text/plain": [
              "                name     club  age position  position_cat  market_value  \\\n",
              "0     Alexis Sanchez  Arsenal   28       LW             1          65.0   \n",
              "1         Mesut Ozil  Arsenal   28       AM             1          50.0   \n",
              "2          Petr Cech  Arsenal   35       GK             4           7.0   \n",
              "3       Theo Walcott  Arsenal   28       RW             1          20.0   \n",
              "4  Laurent Koscielny  Arsenal   31       CB             3          22.0   \n",
              "\n",
              "   page_views  fpl_value fpl_sel  fpl_points  region     nationality  \\\n",
              "0        4329       12.0  17.10%         264     3.0           Chile   \n",
              "1        4395        9.5   5.60%         167     2.0         Germany   \n",
              "2        1529        5.5   5.90%         134     2.0  Czech Republic   \n",
              "3        2393        7.5   1.50%         122     1.0         England   \n",
              "4         912        6.0   0.70%         121     2.0          France   \n",
              "\n",
              "   new_foreign  age_cat  club_id  big_club  new_signing  \n",
              "0            0        4        1         1            0  \n",
              "1            0        4        1         1            0  \n",
              "2            0        6        1         1            0  \n",
              "3            0        4        1         1            0  \n",
              "4            0        4        1         1            0  "
            ],
            "text/html": [
              "\n",
              "  <div id=\"df-17926db1-e999-4aca-8d12-f2dd7a1cf0a2\">\n",
              "    <div class=\"colab-df-container\">\n",
              "      <div>\n",
              "<style scoped>\n",
              "    .dataframe tbody tr th:only-of-type {\n",
              "        vertical-align: middle;\n",
              "    }\n",
              "\n",
              "    .dataframe tbody tr th {\n",
              "        vertical-align: top;\n",
              "    }\n",
              "\n",
              "    .dataframe thead th {\n",
              "        text-align: right;\n",
              "    }\n",
              "</style>\n",
              "<table border=\"1\" class=\"dataframe\">\n",
              "  <thead>\n",
              "    <tr style=\"text-align: right;\">\n",
              "      <th></th>\n",
              "      <th>name</th>\n",
              "      <th>club</th>\n",
              "      <th>age</th>\n",
              "      <th>position</th>\n",
              "      <th>position_cat</th>\n",
              "      <th>market_value</th>\n",
              "      <th>page_views</th>\n",
              "      <th>fpl_value</th>\n",
              "      <th>fpl_sel</th>\n",
              "      <th>fpl_points</th>\n",
              "      <th>region</th>\n",
              "      <th>nationality</th>\n",
              "      <th>new_foreign</th>\n",
              "      <th>age_cat</th>\n",
              "      <th>club_id</th>\n",
              "      <th>big_club</th>\n",
              "      <th>new_signing</th>\n",
              "    </tr>\n",
              "  </thead>\n",
              "  <tbody>\n",
              "    <tr>\n",
              "      <th>0</th>\n",
              "      <td>Alexis Sanchez</td>\n",
              "      <td>Arsenal</td>\n",
              "      <td>28</td>\n",
              "      <td>LW</td>\n",
              "      <td>1</td>\n",
              "      <td>65.0</td>\n",
              "      <td>4329</td>\n",
              "      <td>12.0</td>\n",
              "      <td>17.10%</td>\n",
              "      <td>264</td>\n",
              "      <td>3.0</td>\n",
              "      <td>Chile</td>\n",
              "      <td>0</td>\n",
              "      <td>4</td>\n",
              "      <td>1</td>\n",
              "      <td>1</td>\n",
              "      <td>0</td>\n",
              "    </tr>\n",
              "    <tr>\n",
              "      <th>1</th>\n",
              "      <td>Mesut Ozil</td>\n",
              "      <td>Arsenal</td>\n",
              "      <td>28</td>\n",
              "      <td>AM</td>\n",
              "      <td>1</td>\n",
              "      <td>50.0</td>\n",
              "      <td>4395</td>\n",
              "      <td>9.5</td>\n",
              "      <td>5.60%</td>\n",
              "      <td>167</td>\n",
              "      <td>2.0</td>\n",
              "      <td>Germany</td>\n",
              "      <td>0</td>\n",
              "      <td>4</td>\n",
              "      <td>1</td>\n",
              "      <td>1</td>\n",
              "      <td>0</td>\n",
              "    </tr>\n",
              "    <tr>\n",
              "      <th>2</th>\n",
              "      <td>Petr Cech</td>\n",
              "      <td>Arsenal</td>\n",
              "      <td>35</td>\n",
              "      <td>GK</td>\n",
              "      <td>4</td>\n",
              "      <td>7.0</td>\n",
              "      <td>1529</td>\n",
              "      <td>5.5</td>\n",
              "      <td>5.90%</td>\n",
              "      <td>134</td>\n",
              "      <td>2.0</td>\n",
              "      <td>Czech Republic</td>\n",
              "      <td>0</td>\n",
              "      <td>6</td>\n",
              "      <td>1</td>\n",
              "      <td>1</td>\n",
              "      <td>0</td>\n",
              "    </tr>\n",
              "    <tr>\n",
              "      <th>3</th>\n",
              "      <td>Theo Walcott</td>\n",
              "      <td>Arsenal</td>\n",
              "      <td>28</td>\n",
              "      <td>RW</td>\n",
              "      <td>1</td>\n",
              "      <td>20.0</td>\n",
              "      <td>2393</td>\n",
              "      <td>7.5</td>\n",
              "      <td>1.50%</td>\n",
              "      <td>122</td>\n",
              "      <td>1.0</td>\n",
              "      <td>England</td>\n",
              "      <td>0</td>\n",
              "      <td>4</td>\n",
              "      <td>1</td>\n",
              "      <td>1</td>\n",
              "      <td>0</td>\n",
              "    </tr>\n",
              "    <tr>\n",
              "      <th>4</th>\n",
              "      <td>Laurent Koscielny</td>\n",
              "      <td>Arsenal</td>\n",
              "      <td>31</td>\n",
              "      <td>CB</td>\n",
              "      <td>3</td>\n",
              "      <td>22.0</td>\n",
              "      <td>912</td>\n",
              "      <td>6.0</td>\n",
              "      <td>0.70%</td>\n",
              "      <td>121</td>\n",
              "      <td>2.0</td>\n",
              "      <td>France</td>\n",
              "      <td>0</td>\n",
              "      <td>4</td>\n",
              "      <td>1</td>\n",
              "      <td>1</td>\n",
              "      <td>0</td>\n",
              "    </tr>\n",
              "  </tbody>\n",
              "</table>\n",
              "</div>\n",
              "      <button class=\"colab-df-convert\" onclick=\"convertToInteractive('df-17926db1-e999-4aca-8d12-f2dd7a1cf0a2')\"\n",
              "              title=\"Convert this dataframe to an interactive table.\"\n",
              "              style=\"display:none;\">\n",
              "        \n",
              "  <svg xmlns=\"http://www.w3.org/2000/svg\" height=\"24px\"viewBox=\"0 0 24 24\"\n",
              "       width=\"24px\">\n",
              "    <path d=\"M0 0h24v24H0V0z\" fill=\"none\"/>\n",
              "    <path d=\"M18.56 5.44l.94 2.06.94-2.06 2.06-.94-2.06-.94-.94-2.06-.94 2.06-2.06.94zm-11 1L8.5 8.5l.94-2.06 2.06-.94-2.06-.94L8.5 2.5l-.94 2.06-2.06.94zm10 10l.94 2.06.94-2.06 2.06-.94-2.06-.94-.94-2.06-.94 2.06-2.06.94z\"/><path d=\"M17.41 7.96l-1.37-1.37c-.4-.4-.92-.59-1.43-.59-.52 0-1.04.2-1.43.59L10.3 9.45l-7.72 7.72c-.78.78-.78 2.05 0 2.83L4 21.41c.39.39.9.59 1.41.59.51 0 1.02-.2 1.41-.59l7.78-7.78 2.81-2.81c.8-.78.8-2.07 0-2.86zM5.41 20L4 18.59l7.72-7.72 1.47 1.35L5.41 20z\"/>\n",
              "  </svg>\n",
              "      </button>\n",
              "      \n",
              "  <style>\n",
              "    .colab-df-container {\n",
              "      display:flex;\n",
              "      flex-wrap:wrap;\n",
              "      gap: 12px;\n",
              "    }\n",
              "\n",
              "    .colab-df-convert {\n",
              "      background-color: #E8F0FE;\n",
              "      border: none;\n",
              "      border-radius: 50%;\n",
              "      cursor: pointer;\n",
              "      display: none;\n",
              "      fill: #1967D2;\n",
              "      height: 32px;\n",
              "      padding: 0 0 0 0;\n",
              "      width: 32px;\n",
              "    }\n",
              "\n",
              "    .colab-df-convert:hover {\n",
              "      background-color: #E2EBFA;\n",
              "      box-shadow: 0px 1px 2px rgba(60, 64, 67, 0.3), 0px 1px 3px 1px rgba(60, 64, 67, 0.15);\n",
              "      fill: #174EA6;\n",
              "    }\n",
              "\n",
              "    [theme=dark] .colab-df-convert {\n",
              "      background-color: #3B4455;\n",
              "      fill: #D2E3FC;\n",
              "    }\n",
              "\n",
              "    [theme=dark] .colab-df-convert:hover {\n",
              "      background-color: #434B5C;\n",
              "      box-shadow: 0px 1px 3px 1px rgba(0, 0, 0, 0.15);\n",
              "      filter: drop-shadow(0px 1px 2px rgba(0, 0, 0, 0.3));\n",
              "      fill: #FFFFFF;\n",
              "    }\n",
              "  </style>\n",
              "\n",
              "      <script>\n",
              "        const buttonEl =\n",
              "          document.querySelector('#df-17926db1-e999-4aca-8d12-f2dd7a1cf0a2 button.colab-df-convert');\n",
              "        buttonEl.style.display =\n",
              "          google.colab.kernel.accessAllowed ? 'block' : 'none';\n",
              "\n",
              "        async function convertToInteractive(key) {\n",
              "          const element = document.querySelector('#df-17926db1-e999-4aca-8d12-f2dd7a1cf0a2');\n",
              "          const dataTable =\n",
              "            await google.colab.kernel.invokeFunction('convertToInteractive',\n",
              "                                                     [key], {});\n",
              "          if (!dataTable) return;\n",
              "\n",
              "          const docLinkHtml = 'Like what you see? Visit the ' +\n",
              "            '<a target=\"_blank\" href=https://colab.research.google.com/notebooks/data_table.ipynb>data table notebook</a>'\n",
              "            + ' to learn more about interactive tables.';\n",
              "          element.innerHTML = '';\n",
              "          dataTable['output_type'] = 'display_data';\n",
              "          await google.colab.output.renderOutput(dataTable, element);\n",
              "          const docLink = document.createElement('div');\n",
              "          docLink.innerHTML = docLinkHtml;\n",
              "          element.appendChild(docLink);\n",
              "        }\n",
              "      </script>\n",
              "    </div>\n",
              "  </div>\n",
              "  "
            ]
          },
          "metadata": {},
          "execution_count": 51
        }
      ]
    },
    {
      "cell_type": "code",
      "execution_count": 52,
      "id": "78344e74-32db-42f8-87c9-28d1a3613214",
      "metadata": {
        "colab": {
          "base_uri": "https://localhost:8080/"
        },
        "id": "78344e74-32db-42f8-87c9-28d1a3613214",
        "outputId": "ef0dfece-f7d6-4553-eba6-55b7aaefd640"
      },
      "outputs": [
        {
          "output_type": "execute_result",
          "data": {
            "text/plain": [
              "(461, 17)"
            ]
          },
          "metadata": {},
          "execution_count": 52
        }
      ],
      "source": [
        "data.shape"
      ]
    },
    {
      "cell_type": "code",
      "source": [
        "data.isnull().sum()"
      ],
      "metadata": {
        "colab": {
          "base_uri": "https://localhost:8080/"
        },
        "id": "EOTZ-uMxyfYO",
        "outputId": "55f03199-dcad-44e9-ec69-69bb9d91c3e1"
      },
      "id": "EOTZ-uMxyfYO",
      "execution_count": 53,
      "outputs": [
        {
          "output_type": "execute_result",
          "data": {
            "text/plain": [
              "name            0\n",
              "club            0\n",
              "age             0\n",
              "position        0\n",
              "position_cat    0\n",
              "market_value    0\n",
              "page_views      0\n",
              "fpl_value       0\n",
              "fpl_sel         0\n",
              "fpl_points      0\n",
              "region          1\n",
              "nationality     0\n",
              "new_foreign     0\n",
              "age_cat         0\n",
              "club_id         0\n",
              "big_club        0\n",
              "new_signing     0\n",
              "dtype: int64"
            ]
          },
          "metadata": {},
          "execution_count": 53
        }
      ]
    },
    {
      "cell_type": "code",
      "execution_count": 54,
      "id": "e42174b1",
      "metadata": {
        "papermill": {
          "duration": 0.030516,
          "end_time": "2022-04-04T13:41:54.679448",
          "exception": false,
          "start_time": "2022-04-04T13:41:54.648932",
          "status": "completed"
        },
        "tags": [],
        "id": "e42174b1"
      },
      "outputs": [],
      "source": [
        "data = data.dropna()"
      ]
    },
    {
      "cell_type": "code",
      "source": [
        "data.isnull().sum().sum()"
      ],
      "metadata": {
        "colab": {
          "base_uri": "https://localhost:8080/"
        },
        "id": "GX4oewVBIaXQ",
        "outputId": "bdb8179e-24bd-4332-9d13-0f259d7c7fe6"
      },
      "id": "GX4oewVBIaXQ",
      "execution_count": 55,
      "outputs": [
        {
          "output_type": "execute_result",
          "data": {
            "text/plain": [
              "0"
            ]
          },
          "metadata": {},
          "execution_count": 55
        }
      ]
    },
    {
      "cell_type": "code",
      "source": [
        "sample = data.select_dtypes(include='number')\n",
        "corr = sample.corr()\n",
        "mask = np.zeros_like(corr, dtype = np.bool_)\n",
        "mask[np.triu_indices_from(mask)] = True\n",
        "plt.figure(figsize=(10,10))\n",
        "sns.heatmap(corr, mask=mask)"
      ],
      "metadata": {
        "colab": {
          "base_uri": "https://localhost:8080/",
          "height": 666
        },
        "id": "gA1iWCl7CeWk",
        "outputId": "db451b8f-03fd-4f82-83d6-f9739bfa89f9"
      },
      "id": "gA1iWCl7CeWk",
      "execution_count": 56,
      "outputs": [
        {
          "output_type": "execute_result",
          "data": {
            "text/plain": [
              "<AxesSubplot:>"
            ]
          },
          "metadata": {},
          "execution_count": 56
        },
        {
          "output_type": "display_data",
          "data": {
            "text/plain": [
              "<Figure size 720x720 with 2 Axes>"
            ],
            "image/png": "[encoded data removed]"
          },
          "metadata": {
            "needs_background": "light"
          }
        }
      ]
    },
    {
      "cell_type": "code",
      "source": [
        "scaled = StandardScaler()\n",
        "X = scaled.fit_transform(sample)\n",
        "recommendations = NearestNeighbors(n_neighbors = 5, algorithm='kd_tree')\n",
        "recommendations.fit(X)\n",
        "player_index = recommendations.kneighbors(X)[1]"
      ],
      "metadata": {
        "id": "xfVw4gK2JgmB"
      },
      "id": "xfVw4gK2JgmB",
      "execution_count": 57,
      "outputs": []
    },
    {
      "cell_type": "code",
      "execution_count": 58,
      "id": "e1177114",
      "metadata": {
        "papermill": {
          "duration": 0.026857,
          "end_time": "2022-04-04T13:41:55.775081",
          "exception": false,
          "start_time": "2022-04-04T13:41:55.748224",
          "status": "completed"
        },
        "tags": [],
        "id": "e1177114"
      },
      "outputs": [],
      "source": [
        "def find_index(x):\n",
        "    return data[data['name']==x].index.tolist()[0]\n",
        "\n",
        "def recommendation_system(player):\n",
        "    print(\"Here are four players who are similar to {}: \".format(player))\n",
        "    index =  find_index(player)\n",
        "    for i in player_index[index][1:]:\n",
        "        print(\"Player Name: {}\\nPlayer Market Value: €{}\\nPlayer Age: {}\\nPlayer Current Club: {}\\n\".format(data.iloc[i]['name'],\n",
        "                                                                                        data.iloc[i]['market_value'], \n",
        "                                                                                        data.iloc[i]['age'], \n",
        "                                                                                        data.iloc[i]['club']))"
      ]
    },
    {
      "cell_type": "code",
      "execution_count": 59,
      "id": "11f062b8",
      "metadata": {
        "papermill": {
          "duration": 0.034699,
          "end_time": "2022-04-04T13:41:55.825751",
          "exception": false,
          "start_time": "2022-04-04T13:41:55.791052",
          "status": "completed"
        },
        "tags": [],
        "id": "11f062b8",
        "outputId": "931d495b-7a9e-48cc-ad24-ba86db9054b2",
        "colab": {
          "base_uri": "https://localhost:8080/"
        }
      },
      "outputs": [
        {
          "output_type": "stream",
          "name": "stdout",
          "text": [
            "Here are four players who are similar to Petr Cech: \n",
            "Player Name: Willy Caballero\n",
            "Player Market Value: €1.5\n",
            "Player Age: 35\n",
            "Player Current Club: Chelsea\n",
            "\n",
            "Player Name: Nacho Monreal\n",
            "Player Market Value: €13.0\n",
            "Player Age: 31\n",
            "Player Current Club: Arsenal\n",
            "\n",
            "Player Name: Laurent Koscielny\n",
            "Player Market Value: €22.0\n",
            "Player Age: 31\n",
            "Player Current Club: Arsenal\n",
            "\n",
            "Player Name: Artur Boruc\n",
            "Player Market Value: €1.0\n",
            "Player Age: 37\n",
            "Player Current Club: Bournemouth\n",
            "\n"
          ]
        }
      ],
      "source": [
        "recommendation_system('Petr Cech')"
      ]
    }
  ],
  "metadata": {
    "kernelspec": {
      "display_name": "Python 3 (ipykernel)",
      "language": "python",
      "name": "python3"
    },
    "language_info": {
      "codemirror_mode": {
        "name": "ipython",
        "version": 3
      },
      "file_extension": ".py",
      "mimetype": "text/x-python",
      "name": "python",
      "nbconvert_exporter": "python",
      "pygments_lexer": "ipython3",
      "version": "3.9.7"
    },
    "papermill": {
      "default_parameters": {},
      "duration": 14.601426,
      "end_time": "2022-04-04T13:41:56.771130",
      "environment_variables": {},
      "exception": null,
      "input_path": "__notebook__.ipynb",
      "output_path": "__notebook__.ipynb",
      "parameters": {},
      "start_time": "2022-04-04T13:41:42.169704",
      "version": "2.3.3"
    },
    "colab": {
      "provenance": []
    },
    "accelerator": "GPU",
    "gpuClass": "standard"
  },
  "nbformat": 4,
  "nbformat_minor": 5
}