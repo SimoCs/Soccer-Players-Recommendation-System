{
  "cells": [
    {
      "cell_type": "markdown",
      "id": "c4H_U5_hw8ST",
      "metadata": {
        "id": "c4H_U5_hw8ST"
      },
      "source": [
        "## Import Libraries"
      ]
    },
    {
      "cell_type": "code",
      "execution_count": 5,
      "id": "6nNg9_UZw427",
      "metadata": {
        "id": "6nNg9_UZw427"
      },
      "outputs": [],
      "source": [
        "import numpy as np\n",
        "import pandas as pd\n",
        "\n",
        "import matplotlib.pyplot as plt\n",
        "import seaborn as sns\n",
        "\n",
        "from sklearn.preprocessing import StandardScaler\n",
        "from sklearn.neighbors import NearestNeighbors\n",
        "from sklearn.decomposition import PCA\n",
        "\n",
        "import griddb_python as griddb"
      ]
    },
    {
      "cell_type": "markdown",
      "id": "32e41316-a307-417d-9a03-9cc7810b5a98",
      "metadata": {
        "id": "32e41316-a307-417d-9a03-9cc7810b5a98"
      },
      "source": [
        "## Loading Data"
      ]
    },
    {
      "cell_type": "code",
      "execution_count": 6,
      "id": "64801a87",
      "metadata": {
        "id": "64801a87",
        "papermill": {
          "duration": 0.057679,
          "end_time": "2022-04-04T13:41:54.634121",
          "exception": false,
          "start_time": "2022-04-04T13:41:54.576442",
          "status": "completed"
        },
        "tags": []
      },
      "outputs": [],
      "source": [
        "data = pd.read_csv('data.csv')"
      ]
    },
    {
      "cell_type": "code",
      "execution_count": 7,
      "id": "tWkOhchzyP0p",
      "metadata": {
        "colab": {
          "base_uri": "https://localhost:8080/",
          "height": 187
        },
        "id": "tWkOhchzyP0p",
        "outputId": "1a1ab4f0-9ba4-40a9-ae71-b816c29ee5fb"
      },
      "outputs": [
        {
          "data": {
            "text/html": [
              "\n",
              "\n",
              "  <div id=\"df-4be55e7f-711a-4f18-8171-9eedca302371\">\n",
              "    <div class=\"colab-df-container\">\n",
              "      <div>\n",
              "<style scoped>\n",
              "    .dataframe tbody tr th:only-of-type {\n",
              "        vertical-align: middle;\n",
              "    }\n",
              "\n",
              "    .dataframe tbody tr th {\n",
              "        vertical-align: top;\n",
              "    }\n",
              "\n",
              "    .dataframe thead th {\n",
              "        text-align: right;\n",
              "    }\n",
              "</style>\n",
              "<table border=\"1\" class=\"dataframe\">\n",
              "  <thead>\n",
              "    <tr style=\"text-align: right;\">\n",
              "      <th></th>\n",
              "      <th>name</th>\n",
              "      <th>club</th>\n",
              "      <th>age</th>\n",
              "      <th>position</th>\n",
              "      <th>position_cat</th>\n",
              "      <th>market_value</th>\n",
              "      <th>page_views</th>\n",
              "      <th>fpl_value</th>\n",
              "      <th>fpl_sel</th>\n",
              "      <th>fpl_points</th>\n",
              "      <th>region</th>\n",
              "      <th>nationality</th>\n",
              "      <th>new_foreign</th>\n",
              "      <th>age_cat</th>\n",
              "      <th>club_id</th>\n",
              "      <th>big_club</th>\n",
              "      <th>new_signing</th>\n",
              "    </tr>\n",
              "  </thead>\n",
              "  <tbody>\n",
              "    <tr>\n",
              "      <th>0</th>\n",
              "      <td>Alexis Sanchez</td>\n",
              "      <td>Arsenal</td>\n",
              "      <td>28</td>\n",
              "      <td>LW</td>\n",
              "      <td>1</td>\n",
              "      <td>65.0</td>\n",
              "      <td>4329</td>\n",
              "      <td>12.0</td>\n",
              "      <td>17.10%</td>\n",
              "      <td>264</td>\n",
              "      <td>3</td>\n",
              "      <td>Chile</td>\n",
              "      <td>0</td>\n",
              "      <td>4</td>\n",
              "      <td>1</td>\n",
              "      <td>1</td>\n",
              "      <td>0</td>\n",
              "    </tr>\n",
              "    <tr>\n",
              "      <th>1</th>\n",
              "      <td>Mesut Ozil</td>\n",
              "      <td>Arsenal</td>\n",
              "      <td>28</td>\n",
              "      <td>AM</td>\n",
              "      <td>1</td>\n",
              "      <td>50.0</td>\n",
              "      <td>4395</td>\n",
              "      <td>9.5</td>\n",
              "      <td>5.60%</td>\n",
              "      <td>167</td>\n",
              "      <td>2</td>\n",
              "      <td>Germany</td>\n",
              "      <td>0</td>\n",
              "      <td>4</td>\n",
              "      <td>1</td>\n",
              "      <td>1</td>\n",
              "      <td>0</td>\n",
              "    </tr>\n",
              "    <tr>\n",
              "      <th>2</th>\n",
              "      <td>Petr Cech</td>\n",
              "      <td>Arsenal</td>\n",
              "      <td>35</td>\n",
              "      <td>GK</td>\n",
              "      <td>4</td>\n",
              "      <td>7.0</td>\n",
              "      <td>1529</td>\n",
              "      <td>5.5</td>\n",
              "      <td>5.90%</td>\n",
              "      <td>134</td>\n",
              "      <td>2</td>\n",
              "      <td>Czech Republic</td>\n",
              "      <td>0</td>\n",
              "      <td>6</td>\n",
              "      <td>1</td>\n",
              "      <td>1</td>\n",
              "      <td>0</td>\n",
              "    </tr>\n",
              "  </tbody>\n",
              "</table>\n",
              "</div>\n",
              "      <button class=\"colab-df-convert\" onclick=\"convertToInteractive('df-4be55e7f-711a-4f18-8171-9eedca302371')\"\n",
              "              title=\"Convert this dataframe to an interactive table.\"\n",
              "              style=\"display:none;\">\n",
              "\n",
              "  <svg xmlns=\"http://www.w3.org/2000/svg\" height=\"24px\"viewBox=\"0 0 24 24\"\n",
              "       width=\"24px\">\n",
              "    <path d=\"M0 0h24v24H0V0z\" fill=\"none\"/>\n",
              "    <path d=\"M18.56 5.44l.94 2.06.94-2.06 2.06-.94-2.06-.94-.94-2.06-.94 2.06-2.06.94zm-11 1L8.5 8.5l.94-2.06 2.06-.94-2.06-.94L8.5 2.5l-.94 2.06-2.06.94zm10 10l.94 2.06.94-2.06 2.06-.94-2.06-.94-.94-2.06-.94 2.06-2.06.94z\"/><path d=\"M17.41 7.96l-1.37-1.37c-.4-.4-.92-.59-1.43-.59-.52 0-1.04.2-1.43.59L10.3 9.45l-7.72 7.72c-.78.78-.78 2.05 0 2.83L4 21.41c.39.39.9.59 1.41.59.51 0 1.02-.2 1.41-.59l7.78-7.78 2.81-2.81c.8-.78.8-2.07 0-2.86zM5.41 20L4 18.59l7.72-7.72 1.47 1.35L5.41 20z\"/>\n",
              "  </svg>\n",
              "      </button>\n",
              "\n",
              "\n",
              "\n",
              "    <div id=\"df-cb66cf5c-768a-4e78-80a6-0c7efac5db97\">\n",
              "      <button class=\"colab-df-quickchart\" onclick=\"quickchart('df-cb66cf5c-768a-4e78-80a6-0c7efac5db97')\"\n",
              "              title=\"Suggest charts.\"\n",
              "              style=\"display:none;\">\n",
              "\n",
              "<svg xmlns=\"http://www.w3.org/2000/svg\" height=\"24px\"viewBox=\"0 0 24 24\"\n",
              "     width=\"24px\">\n",
              "    <g>\n",
              "        <path d=\"M19 3H5c-1.1 0-2 .9-2 2v14c0 1.1.9 2 2 2h14c1.1 0 2-.9 2-2V5c0-1.1-.9-2-2-2zM9 17H7v-7h2v7zm4 0h-2V7h2v10zm4 0h-2v-4h2v4z\"/>\n",
              "    </g>\n",
              "</svg>\n",
              "      </button>\n",
              "    </div>\n",
              "\n",
              "<style>\n",
              "  .colab-df-quickchart {\n",
              "    background-color: #E8F0FE;\n",
              "    border: none;\n",
              "    border-radius: 50%;\n",
              "    cursor: pointer;\n",
              "    display: none;\n",
              "    fill: #1967D2;\n",
              "    height: 32px;\n",
              "    padding: 0 0 0 0;\n",
              "    width: 32px;\n",
              "  }\n",
              "\n",
              "  .colab-df-quickchart:hover {\n",
              "    background-color: #E2EBFA;\n",
              "    box-shadow: 0px 1px 2px rgba(60, 64, 67, 0.3), 0px 1px 3px 1px rgba(60, 64, 67, 0.15);\n",
              "    fill: #174EA6;\n",
              "  }\n",
              "\n",
              "  [theme=dark] .colab-df-quickchart {\n",
              "    background-color: #3B4455;\n",
              "    fill: #D2E3FC;\n",
              "  }\n",
              "\n",
              "  [theme=dark] .colab-df-quickchart:hover {\n",
              "    background-color: #434B5C;\n",
              "    box-shadow: 0px 1px 3px 1px rgba(0, 0, 0, 0.15);\n",
              "    filter: drop-shadow(0px 1px 2px rgba(0, 0, 0, 0.3));\n",
              "    fill: #FFFFFF;\n",
              "  }\n",
              "</style>\n",
              "\n",
              "    <script>\n",
              "      async function quickchart(key) {\n",
              "        const containerElement = document.querySelector('#' + key);\n",
              "        const charts = await google.colab.kernel.invokeFunction(\n",
              "            'suggestCharts', [key], {});\n",
              "      }\n",
              "    </script>\n",
              "\n",
              "      <script>\n",
              "\n",
              "function displayQuickchartButton(domScope) {\n",
              "  let quickchartButtonEl =\n",
              "    domScope.querySelector('#df-cb66cf5c-768a-4e78-80a6-0c7efac5db97 button.colab-df-quickchart');\n",
              "  quickchartButtonEl.style.display =\n",
              "    google.colab.kernel.accessAllowed ? 'block' : 'none';\n",
              "}\n",
              "\n",
              "        displayQuickchartButton(document);\n",
              "      </script>\n",
              "      <style>\n",
              "    .colab-df-container {\n",
              "      display:flex;\n",
              "      flex-wrap:wrap;\n",
              "      gap: 12px;\n",
              "    }\n",
              "\n",
              "    .colab-df-convert {\n",
              "      background-color: #E8F0FE;\n",
              "      border: none;\n",
              "      border-radius: 50%;\n",
              "      cursor: pointer;\n",
              "      display: none;\n",
              "      fill: #1967D2;\n",
              "      height: 32px;\n",
              "      padding: 0 0 0 0;\n",
              "      width: 32px;\n",
              "    }\n",
              "\n",
              "    .colab-df-convert:hover {\n",
              "      background-color: #E2EBFA;\n",
              "      box-shadow: 0px 1px 2px rgba(60, 64, 67, 0.3), 0px 1px 3px 1px rgba(60, 64, 67, 0.15);\n",
              "      fill: #174EA6;\n",
              "    }\n",
              "\n",
              "    [theme=dark] .colab-df-convert {\n",
              "      background-color: #3B4455;\n",
              "      fill: #D2E3FC;\n",
              "    }\n",
              "\n",
              "    [theme=dark] .colab-df-convert:hover {\n",
              "      background-color: #434B5C;\n",
              "      box-shadow: 0px 1px 3px 1px rgba(0, 0, 0, 0.15);\n",
              "      filter: drop-shadow(0px 1px 2px rgba(0, 0, 0, 0.3));\n",
              "      fill: #FFFFFF;\n",
              "    }\n",
              "  </style>\n",
              "\n",
              "      <script>\n",
              "        const buttonEl =\n",
              "          document.querySelector('#df-4be55e7f-711a-4f18-8171-9eedca302371 button.colab-df-convert');\n",
              "        buttonEl.style.display =\n",
              "          google.colab.kernel.accessAllowed ? 'block' : 'none';\n",
              "\n",
              "        async function convertToInteractive(key) {\n",
              "          const element = document.querySelector('#df-4be55e7f-711a-4f18-8171-9eedca302371');\n",
              "          const dataTable =\n",
              "            await google.colab.kernel.invokeFunction('convertToInteractive',\n",
              "                                                     [key], {});\n",
              "          if (!dataTable) return;\n",
              "\n",
              "          const docLinkHtml = 'Like what you see? Visit the ' +\n",
              "            '<a target=\"_blank\" href=https://colab.research.google.com/notebooks/data_table.ipynb>data table notebook</a>'\n",
              "            + ' to learn more about interactive tables.';\n",
              "          element.innerHTML = '';\n",
              "          dataTable['output_type'] = 'display_data';\n",
              "          await google.colab.output.renderOutput(dataTable, element);\n",
              "          const docLink = document.createElement('div');\n",
              "          docLink.innerHTML = docLinkHtml;\n",
              "          element.appendChild(docLink);\n",
              "        }\n",
              "      </script>\n",
              "    </div>\n",
              "  </div>\n"
            ],
            "text/plain": [
              "             name     club  age position  position_cat  market_value  \\\n",
              "0  Alexis Sanchez  Arsenal   28       LW             1          65.0   \n",
              "1      Mesut Ozil  Arsenal   28       AM             1          50.0   \n",
              "2       Petr Cech  Arsenal   35       GK             4           7.0   \n",
              "\n",
              "   page_views  fpl_value fpl_sel  fpl_points  region     nationality  \\\n",
              "0        4329       12.0  17.10%         264       3           Chile   \n",
              "1        4395        9.5   5.60%         167       2         Germany   \n",
              "2        1529        5.5   5.90%         134       2  Czech Republic   \n",
              "\n",
              "   new_foreign  age_cat  club_id  big_club  new_signing  \n",
              "0            0        4        1         1            0  \n",
              "1            0        4        1         1            0  \n",
              "2            0        6        1         1            0  "
            ]
          },
          "execution_count": 7,
          "metadata": {},
          "output_type": "execute_result"
        }
      ],
      "source": [
        "data.head(3)"
      ]
    },
    {
      "cell_type": "code",
      "execution_count": 8,
      "id": "78344e74-32db-42f8-87c9-28d1a3613214",
      "metadata": {
        "colab": {
          "base_uri": "https://localhost:8080/"
        },
        "id": "78344e74-32db-42f8-87c9-28d1a3613214",
        "outputId": "50fbb090-d61c-458d-eafc-425649c22cbd"
      },
      "outputs": [
        {
          "data": {
            "text/plain": [
              "(460, 17)"
            ]
          },
          "execution_count": 8,
          "metadata": {},
          "output_type": "execute_result"
        }
      ],
      "source": [
        "data.shape"
      ]
    },
    {
      "cell_type": "code",
      "execution_count": 9,
      "id": "Pm2hgE6Clvvm",
      "metadata": {
        "colab": {
          "base_uri": "https://localhost:8080/"
        },
        "id": "Pm2hgE6Clvvm",
        "outputId": "0379aaa5-a191-4226-d12e-cb56d7e6f2d4"
      },
      "outputs": [
        {
          "data": {
            "text/plain": [
              "Index(['name', 'club', 'age', 'position', 'position_cat', 'market_value',\n",
              "       'page_views', 'fpl_value', 'fpl_sel', 'fpl_points', 'region',\n",
              "       'nationality', 'new_foreign', 'age_cat', 'club_id', 'big_club',\n",
              "       'new_signing'],\n",
              "      dtype='object')"
            ]
          },
          "execution_count": 9,
          "metadata": {},
          "output_type": "execute_result"
        }
      ],
      "source": [
        "data.columns"
      ]
    },
    {
      "cell_type": "code",
      "execution_count": 10,
      "id": "e42174b1",
      "metadata": {
        "id": "e42174b1",
        "papermill": {
          "duration": 0.030516,
          "end_time": "2022-04-04T13:41:54.679448",
          "exception": false,
          "start_time": "2022-04-04T13:41:54.648932",
          "status": "completed"
        },
        "tags": []
      },
      "outputs": [],
      "source": [
        "data = data.dropna()"
      ]
    },
    {
      "cell_type": "code",
      "execution_count": 11,
      "id": "GX4oewVBIaXQ",
      "metadata": {
        "colab": {
          "base_uri": "https://localhost:8080/"
        },
        "id": "GX4oewVBIaXQ",
        "outputId": "948b7188-753b-4d74-9f0e-3f0a2debc691"
      },
      "outputs": [
        {
          "data": {
            "text/plain": [
              "0"
            ]
          },
          "execution_count": 11,
          "metadata": {},
          "output_type": "execute_result"
        }
      ],
      "source": [
        "data.isnull().sum().sum()"
      ]
    },
    {
      "cell_type": "code",
      "execution_count": 12,
      "id": "hSxU_u6B5nTU",
      "metadata": {
        "colab": {
          "base_uri": "https://localhost:8080/"
        },
        "id": "hSxU_u6B5nTU",
        "outputId": "174b1e8e-50d6-43e9-dab4-9201642f329a"
      },
      "outputs": [
        {
          "data": {
            "text/plain": [
              "name             object\n",
              "club             object\n",
              "age               int64\n",
              "position         object\n",
              "position_cat      int64\n",
              "market_value    float64\n",
              "page_views        int64\n",
              "fpl_value       float64\n",
              "fpl_sel          object\n",
              "fpl_points        int64\n",
              "region            int64\n",
              "nationality      object\n",
              "new_foreign       int64\n",
              "age_cat           int64\n",
              "club_id           int64\n",
              "big_club          int64\n",
              "new_signing       int64\n",
              "dtype: object"
            ]
          },
          "execution_count": 12,
          "metadata": {},
          "output_type": "execute_result"
        }
      ],
      "source": [
        "data.dtypes"
      ]
    },
    {
      "cell_type": "code",
      "execution_count": 13,
      "id": "5cTW395qo_5H",
      "metadata": {
        "id": "5cTW395qo_5H"
      },
      "outputs": [],
      "source": [
        "data['name'] = data['name'].apply(lambda x: x.encode('utf-8').decode('utf-8'))\n",
        "data[['age', 'position_cat', 'market_value', 'page_views', 'fpl_value', 'fpl_points', 'region', 'new_foreign', 'age_cat', 'club_id', 'big_club', 'new_signing']] = data[['age', 'position_cat', 'market_value', 'page_views', 'fpl_value', 'fpl_points', 'region', 'new_foreign', 'age_cat', 'club_id', 'big_club', 'new_signing']].astype(float)"
      ]
    },
    {
      "cell_type": "markdown",
      "id": "4M19uoc42dDM",
      "metadata": {
        "id": "4M19uoc42dDM"
      },
      "source": [
        "## Setting Up a Container in Griddb to Store the Data"
      ]
    },
    {
      "cell_type": "code",
      "execution_count": null,
      "id": "g2JW7rCv1-jW",
      "metadata": {
        "id": "g2JW7rCv1-jW"
      },
      "outputs": [],
      "source": [
        "factory = griddb.StoreFactory.get_instance()\n",
        "\n",
        "# Provide the necessary arguments\n",
        "gridstore = factory.get_store(\n",
        "    host = '239.0.0.1',\n",
        "    port = 31999,\n",
        "    cluster_name = 'defaultCluster',\n",
        "    username = 'admin',\n",
        "    password = 'admin'\n",
        ")\n",
        "\n",
        "# Define the container info\n",
        "conInfo = griddb.ContainerInfo(\n",
        "    \"football_players\",\n",
        "    [\n",
        "        [\"name\", griddb.Type.STRING],\n",
        "        [\"club\", griddb.Type.STRING],\n",
        "        [\"age\", griddb.Type.DOUBLE],\n",
        "        [\"position\", griddb.Type.STRING],\n",
        "        [\"position_cat\", griddb.Type.DOUBLE],\n",
        "        [\"market_value\", griddb.Type.DOUBLE],\n",
        "        [\"page_views\", griddb.Type.DOUBLE],\n",
        "        [\"fpl_value\", griddb.Type.DOUBLE],\n",
        "        [\"fpl_sel\", griddb.Type.STRING],\n",
        "        [\"fpl_points\", griddb.Type.DOUBLE],\n",
        "        [\"region\", griddb.Type.DOUBLE],\n",
        "        [\"nationality\", griddb.Type.STRING],\n",
        "        [\"new_foreign\", griddb.Type.DOUBLE],\n",
        "        [\"age_cat\", griddb.Type.DOUBLE],\n",
        "        [\"club_id\", griddb.Type.DOUBLE],\n",
        "        [\"big_club\", griddb.Type.DOUBLE],\n",
        "        [\"new_signing\", griddb.Type.DOUBLE]\n",
        "    ],\n",
        "    griddb.ContainerType.COLLECTION, True\n",
        ")\n",
        "\n",
        "# Drop container if it exists\n",
        "gridstore.drop_container(conInfo.name)\n",
        "\n",
        "# Create a container\n",
        "container = gridstore.put_container(conInfo)\n",
        "\n",
        "# Load the data\n",
        "\n",
        "# Put rows\n",
        "for i in range(len(data)):\n",
        "  row = data.iloc[i].tolist()\n",
        "  try:\n",
        "    container.put(row)\n",
        "  except Exception as e:\n",
        "    print(f\"Error on row {i}: {row}\")\n",
        "    print(e)\n",
        "\n",
        "cont = gridstore.get_container(\"football_players\")\n",
        "\n",
        "if cont is None:\n",
        "  print(\"Does not exist\")\n",
        "\n",
        "print(\"connection successful\")\n",
        "\n",
        "# Define the exact columns you need\n",
        "columns = [\"*\"]\n",
        "\n",
        "select_statement = \"SELECT \" + \", \".join(columns) + \" FROM football_players\"\n",
        "\n",
        "# Execute the query\n",
        "query = container.query(select_statement)\n",
        "rs = query.fetch(False)\n",
        "\n",
        "data = rs.fetch_rows()\n",
        "\n",
        "print(data.head())"
      ]
    },
    {
      "cell_type": "markdown",
      "id": "HtmQF0qJ16im",
      "metadata": {
        "id": "HtmQF0qJ16im"
      },
      "source": [
        "## Recommendation System"
      ]
    },
    {
      "cell_type": "code",
      "execution_count": 14,
      "id": "gA1iWCl7CeWk",
      "metadata": {
        "colab": {
          "base_uri": "https://localhost:8080/",
          "height": 928
        },
        "id": "gA1iWCl7CeWk",
        "outputId": "76a0e74d-200d-48b5-e38c-d0971f205812"
      },
      "outputs": [
        {
          "data": {
            "text/plain": [
              "<Axes: >"
            ]
          },
          "execution_count": 14,
          "metadata": {},
          "output_type": "execute_result"
        },
        {
          "data": {
            "image/png": "[encoded data removed]",
            "text/plain": [
              "<Figure size 1000x1000 with 2 Axes>"
            ]
          },
          "metadata": {},
          "output_type": "display_data"
        }
      ],
      "source": [
        "sample = data.select_dtypes(include='number')\n",
        "corr = sample.corr()\n",
        "mask = np.zeros_like(corr, dtype = np.bool_)\n",
        "mask[np.triu_indices_from(mask)] = True\n",
        "plt.figure(figsize=(10,10))\n",
        "sns.heatmap(corr, mask=mask)"
      ]
    },
    {
      "cell_type": "code",
      "execution_count": 15,
      "id": "xfVw4gK2JgmB",
      "metadata": {
        "id": "xfVw4gK2JgmB"
      },
      "outputs": [],
      "source": [
        "scaled = StandardScaler()\n",
        "X = scaled.fit_transform(sample)\n",
        "recommendations = NearestNeighbors(n_neighbors = 5, algorithm='kd_tree')\n",
        "recommendations.fit(X)\n",
        "player_index = recommendations.kneighbors(X)[1]"
      ]
    },
    {
      "cell_type": "code",
      "execution_count": 16,
      "id": "e1177114",
      "metadata": {
        "id": "e1177114",
        "papermill": {
          "duration": 0.026857,
          "end_time": "2022-04-04T13:41:55.775081",
          "exception": false,
          "start_time": "2022-04-04T13:41:55.748224",
          "status": "completed"
        },
        "tags": []
      },
      "outputs": [],
      "source": [
        "def find_index(x):\n",
        "    return data[data['name']==x].index.tolist()[0]\n",
        "\n",
        "def recommendation_system(player):\n",
        "    print(\"Here are four players who are similar to {}: \".format(player))\n",
        "    index =  find_index(player)\n",
        "    for i in player_index[index][1:]:\n",
        "        print(\"Player Name: {}\\nPlayer Market Value: {}\\nPlayer Age: {}\\nPlayer Current Club: {}\\n\".format(data.iloc[i]['name'],\n",
        "                                                                                        data.iloc[i]['market_value'],\n",
        "                                                                                        data.iloc[i]['age'],\n",
        "                                                                                        data.iloc[i]['club']))"
      ]
    },
    {
      "cell_type": "code",
      "execution_count": 17,
      "id": "11f062b8",
      "metadata": {
        "colab": {
          "base_uri": "https://localhost:8080/"
        },
        "id": "11f062b8",
        "outputId": "19776fef-0f57-4efc-8ee6-3b0a362da0b6",
        "papermill": {
          "duration": 0.034699,
          "end_time": "2022-04-04T13:41:55.825751",
          "exception": false,
          "start_time": "2022-04-04T13:41:55.791052",
          "status": "completed"
        },
        "tags": []
      },
      "outputs": [
        {
          "name": "stdout",
          "output_type": "stream",
          "text": [
            "Here are four players who are similar to Petr Cech: \n",
            "Player Name: Willy Caballero\n",
            "Player Market Value: 1.5\n",
            "Player Age: 35.0\n",
            "Player Current Club: Chelsea\n",
            "\n",
            "Player Name: Nacho Monreal\n",
            "Player Market Value: 13.0\n",
            "Player Age: 31.0\n",
            "Player Current Club: Arsenal\n",
            "\n",
            "Player Name: Laurent Koscielny\n",
            "Player Market Value: 22.0\n",
            "Player Age: 31.0\n",
            "Player Current Club: Arsenal\n",
            "\n",
            "Player Name: Artur Boruc\n",
            "Player Market Value: 1.0\n",
            "Player Age: 37.0\n",
            "Player Current Club: Bournemouth\n",
            "\n"
          ]
        }
      ],
      "source": [
        "recommendation_system('Petr Cech')"
      ]
    }
  ],
  "metadata": {
    "colab": {
      "provenance": []
    },
    "kernelspec": {
      "display_name": "Python 3 (ipykernel)",
      "language": "python",
      "name": "python3"
    },
    "language_info": {
      "codemirror_mode": {
        "name": "ipython",
        "version": 3
      },
      "file_extension": ".py",
      "mimetype": "text/x-python",
      "name": "python",
      "nbconvert_exporter": "python",
      "pygments_lexer": "ipython3",
      "version": "3.9.7"
    },
    "papermill": {
      "default_parameters": {},
      "duration": 14.601426,
      "end_time": "2022-04-04T13:41:56.771130",
      "environment_variables": {},
      "exception": null,
      "input_path": "__notebook__.ipynb",
      "output_path": "__notebook__.ipynb",
      "parameters": {},
      "start_time": "2022-04-04T13:41:42.169704",
      "version": "2.3.3"
    }
  },
  "nbformat": 4,
  "nbformat_minor": 5
}
